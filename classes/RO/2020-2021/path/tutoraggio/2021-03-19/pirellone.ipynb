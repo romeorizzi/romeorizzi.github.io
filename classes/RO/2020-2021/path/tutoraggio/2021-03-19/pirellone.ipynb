{
 "cells": [
  {
   "cell_type": "code",
   "execution_count": 1,
   "metadata": {
    "deletable": false,
    "editable": false,
    "hide_input": true,
    "init_cell": true
   },
   "outputs": [
    {
     "data": {
      "application/javascript": [
       "window.findCellIndicesByTag = function findCellIndicesByTag(tagName) {\n",
       "  return (Jupyter.notebook.get_cells()\n",
       "    .filter(\n",
       "      ({metadata: {tags}}) => tags && tags.includes(tagName)\n",
       "    )\n",
       "    .map((cell) => Jupyter.notebook.find_cell_index(cell))\n",
       "  );\n",
       "};\n",
       "\n",
       "window.runCells = function runCells() {\n",
       "    var c = window.findCellIndicesByTag('runcell');\n",
       "    Jupyter.notebook.execute_cells(c);\n",
       "};\n"
      ],
      "text/plain": [
       "<IPython.core.display.Javascript object>"
      ]
     },
     "metadata": {},
     "output_type": "display_data"
    }
   ],
   "source": [
    "%%javascript\n",
    "window.findCellIndicesByTag = function findCellIndicesByTag(tagName) {\n",
    "  return (Jupyter.notebook.get_cells()\n",
    "    .filter(\n",
    "      ({metadata: {tags}}) => tags && tags.includes(tagName)\n",
    "    )\n",
    "    .map((cell) => Jupyter.notebook.find_cell_index(cell))\n",
    "  );\n",
    "};\n",
    "\n",
    "window.runCells = function runCells() {\n",
    "    var c = window.findCellIndicesByTag('runcell');\n",
    "    Jupyter.notebook.execute_cells(c);\n",
    "};\n"
   ]
  },
  {
   "cell_type": "code",
   "execution_count": 2,
   "metadata": {
    "deletable": false,
    "hide_input": true,
    "init_cell": true
   },
   "outputs": [],
   "source": [
    "from IPython.core.display import display, HTML, Markdown, Javascript\n",
    "import copy\n",
    "\n",
    "def start():\n",
    "    display(Javascript(\"window.runCells()\"))\n",
    "\n",
    "arr_point=[-1, -1]\n"
   ]
  },
  {
   "cell_type": "code",
   "execution_count": 3,
   "metadata": {
    "deletable": false
   },
   "outputs": [
    {
     "data": {
      "application/javascript": [
       "window.runCells()"
      ],
      "text/plain": [
       "<IPython.core.display.Javascript object>"
      ]
     },
     "metadata": {},
     "output_type": "display_data"
    }
   ],
   "source": [
    "#seleziona la cella e premi ctrl-invio\n",
    "start()\n"
   ]
  },
  {
   "cell_type": "code",
   "execution_count": 4,
   "metadata": {
    "deletable": false,
    "editable": false,
    "hide_input": true,
    "tags": [
     "runcell",
     "noexport"
    ]
   },
   "outputs": [],
   "source": [
    "p=[[0, 0, 1, 0, 1, 1, 0, 1], [0, 0, 1, 0, 0, 1, 1, 0], [1, 1, 0, 1, 1, 0, 0, 0], [1, 1, 0, 1, 0, 1, 1, 0], [0, 0, 1, 0, 0, 1, 0, 1], [1, 0, 1, 0, 1, 1, 0, 1]]\n"
   ]
  },
  {
   "cell_type": "code",
   "execution_count": 5,
   "metadata": {
    "deletable": false,
    "editable": false,
    "hide_input": true,
    "tags": [
     "runcell"
    ]
   },
   "outputs": [],
   "source": [
    "from IPython.core.display import display, HTML, Markdown\n",
    "import copy\n",
    "\n",
    "impostazione_attuale_interruttore_di_riga = [0]*len(p)\n",
    "impostazione_attuale_interruttore_di_colonna = [0]*len(p[0])\n",
    "                \n",
    "def flippa_riga(r):\n",
    "    if r < 0 or r >= len(p):\n",
    "        display(Markdown(f\"<it>Attenzione:</it> gli indici di riga $r$ che puoi immettere nella funzione $flippa\\_riga(r)$ sono i numeri naturali da $0$ a ${len(p)-1}$\"))\n",
    "        return\n",
    "    impostazione_attuale_interruttore_di_riga[r] = 1-impostazione_attuale_interruttore_di_riga[r]\n",
    "        \n",
    "def flippa_colonna(c):\n",
    "    if c < 0 or c >= len(p[0]):\n",
    "        display(Markdown(f\"<it>Attenzione:</it> gli indici di colonna $c$ che puoi immettere nella funzione $flippa\\_colonna(c)$ sono i numeri naturali da $0$ a ${len(p[0])-1}$\"))\n",
    "        return\n",
    "    impostazione_attuale_interruttore_di_colonna[c] = 1-impostazione_attuale_interruttore_di_colonna[c]\n",
    "\n",
    "def visualizza(p):\n",
    "    num_accese = 0;\n",
    "    for r in range(len(p)):\n",
    "        for c in range(len(p[0])):\n",
    "            print(p[r][c],end=\" \")\n",
    "            num_accese += p[r][c]\n",
    "        print()\n",
    "    display(Markdown(f\"Attualmente ci sono <b>{num_accese} luci accese</b>.\"))\n",
    "    \n",
    "    \n",
    "def visualizza_stato_attuale():\n",
    "    new_p = p.copy()\n",
    "    num_accese = 0;\n",
    "    new_p = [[(p[r][c]+impostazione_attuale_interruttore_di_riga[r]+impostazione_attuale_interruttore_di_colonna[c]) % 2  for c in range(len(p[0]))] for r in range(len(p))]\n",
    "    for r in range(len(p)):\n",
    "        for c in range(len(p[0])):\n",
    "            new_p[r][c] = (p[r][c] +impostazione_attuale_interruttore_di_riga[r] +impostazione_attuale_interruttore_di_colonna[c]) % 2\n",
    "            num_accese += new_p[r][c] \n",
    "    display(Markdown(f\"Agendo sugli interruttori settati come segue:<br><b>   Interruttori di riga:</b> {impostazione_attuale_interruttore_di_riga}<br><b>   Interruttori di colonna:</b> {impostazione_attuale_interruttore_di_colonna}\"))\n",
    "    display(Markdown(f\"Ti porti dalla configurazione iniziale riportata in $p$ nella seguente configurazione finale:<br>\"))\n",
    "    visualizza(new_p)\n",
    "    \n",
    "def visualizza_lo_stato_che_si_ottiene_con_gli_interruttori_impostati(agisci_riga, agisci_col):\n",
    "    new_p = copy.deepcopy(p)\n",
    "    num_accese = 0;\n",
    "    for r in range(len(agisci_riga)):\n",
    "        for c in range(len(agisci_col)):\n",
    "            if (agisci_riga[r] + agisci_col[c]) % 2 != 0:\n",
    "                new_p[r][c] = 1-new_p[r][c]\n",
    "                num_accese += new_p[r][c] \n",
    "    display(Markdown(f\"Agendo sugli interruttori settati come segue:<br><b>   Interruttori di riga:</b> {agisci_riga}<br><b>   Interruttori di colonna:</b> {agisci_col}\"))\n",
    "    display(Markdown(f\"Ti porti dalla configurazione iniziale riportata in $p$ nella seguente configurazione finale:<br>\"))\n",
    "    visualizza(new_p)\n",
    "#arr_point=[-1,-1]\n",
    "def evaluation_format(answ, pt_green,pt_red, index_pt):\n",
    "    pt_blue=0\n",
    "    if pt_green!=0:\n",
    "        pt_blue=pt_red-pt_green\n",
    "        pt_red=0\n",
    "    arr_point[index_pt]=pt_green\n",
    "    file = open(\"points.txt\", \"w\")\n",
    "    file.write(str(arr_point))\n",
    "    file.close()\n",
    "    return f\"{answ}. Totalizzeresti <span style='color:green'>[{pt_green} safe pt]</span>,                                     <span style='color:blue'>[{pt_blue} possible pt]</span>,                                     <span style='color:red'>[{pt_red} out of reach pt]</span>.<br>\"\n",
    "\n",
    "def check_numberlight(a,answer,pt_green,pt_red,index_pt):\n",
    "    s=[]\n",
    "    for i in range(1,len(a),2):\n",
    "        s.append(i)\n",
    "    up=0\n",
    "    down=1\n",
    "    matrix=0\n",
    "    index=[]\n",
    "    while up<len(a) and down<len(a):\n",
    "            for i in range(len(a[0])-1):\n",
    "                for j in range(i+1,len(a[0])):\n",
    "                    if j not in index and i not in index:\n",
    "                        if a[up][i]==0 and a[down][i]==0:\n",
    "                            if (a[up][j]==1 and a[down][j]==0) or (a[up][j]==0 and a[down][j]==1):\n",
    "                                matrix+=1\n",
    "                                #print(\"matrice di colonne: \"+str(i)+\",\"+str(j)+\" e righe: \"+str(up)+\",\"+str(down))\n",
    "                                index.append(j)\n",
    "                                index.append(i)\n",
    "                        if (a[up][i]==1 and a[down][i]==0) or (a[up][i]==0 and a[down][i]==1):\n",
    "                            if a[up][j]==0 and a[down][j]==0:\n",
    "                                matrix+=1\n",
    "                                #print(\"matrice di colonne: \"+str(i)+\",\"+str(j)+\" e righe: \"+str(up)+\",\"+str(down))\n",
    "                                index.append(j)\n",
    "                                index.append(i)\n",
    "                        if a[up][i]==1 and a[down][i]==1:\n",
    "                            if (a[up][j]==1 and a[down][j]==0) or (a[up][j]==0 and a[down][j]==1):\n",
    "                                matrix+=1\n",
    "                                #print(\"matrice di colonne: \"+str(i)+\",\"+str(j)+\" e righe: \"+str(up)+\",\"+str(down))\n",
    "                                index.append(j)\n",
    "                                index.append(i)\n",
    "                        if (a[up][i]==1 and a[down][i]==0) or (a[up][i]==0 and a[down][i]==1):\n",
    "                            if a[up][j]==1 and a[down][j]==1:\n",
    "                                matrix+=1\n",
    "                                #print(\"matrice di colonne: \"+str(i)+\",\"+str(j)+\" e righe: \"+str(up)+\",\"+str(down))\n",
    "                                index.append(j)\n",
    "                                index.append(i)\n",
    "            up+=1\n",
    "            down+=1\n",
    "            if down in s:\n",
    "                index=[]\n",
    "    if answer==matrix:\n",
    "        return evaluation_format(\"Si\", pt_green,pt_red,index_pt)+f\"Il numero di luci che non possono essere spente è corretto.\"\n",
    "    if answer>matrix:\n",
    "        return evaluation_format(\"No\", 0,pt_red,index_pt)+f\"Si possono spegnere ancora luci.\"\n",
    "    else:\n",
    "        return evaluation_format(\"No\", 0,pt_red,index_pt)+f\"La risposta non è corretta.\"\n",
    "    \n",
    "def count(a,c):\n",
    "    n1=0\n",
    "    n0=0\n",
    "    vettore=[ a[c[0]][c[2]], a[c[0]][c[3]],a[c[1]][c[2]],a[c[1]][c[3]] ]\n",
    "    for i in vettore:\n",
    "        if i==1:\n",
    "            n1+=1\n",
    "        else:\n",
    "            n0+=1\n",
    "    if (n0==1 and n1==3) or (n0==3 and n1==1):\n",
    "        return False\n",
    "    else: \n",
    "        return True \n",
    "\n",
    "#answer è matrice tale che ogni riga contiene le due righe e le due colonne che individuano matrici\n",
    "def check_submatrix(a,answer,pt_green,pt_red,index_pt):\n",
    "    comune=False\n",
    "    index_col=[]\n",
    "    index_row=[]\n",
    "    nc=0\n",
    "    nr=0\n",
    "    for i in range(len(answer)):\n",
    "        c=answer[i]\n",
    "        if count(a,c):\n",
    "            return f\"La matrice individuata da {c} non è una matrice 'cattiva'.\"\n",
    "        for j in range(i+1,len(answer)):\n",
    "            d=answer[j]\n",
    "            if count(a,d):\n",
    "                return f\"La matrice individuata da {d} non è una matrice 'cattiva'.\"\n",
    "            for h in range(0,2):\n",
    "                for k in range(0,2):\n",
    "                    if c[h]>len(a) or d[k]>len(a):\n",
    "                        return f\"Vi è un errore negli indici di riga poichè è necessario inserire numeri minori di {len(a)}.\"\n",
    "                    if c[h]==d[k]:\n",
    "                        nr+=1\n",
    "                        com_r=c[h]\n",
    "            for h in range(2,4):\n",
    "                for k in range(2,4):\n",
    "                    if c[h]>len(a[0]) or d[k]>len(a[0]):\n",
    "                        return f\"Vi è un errore negli indici di colonna poichè è necessario inserire numeri minori di {len(a[0])}.\"\n",
    "                    if c[h]==d[k]:\n",
    "                        nc+=1\n",
    "                        com_c=c[h]\n",
    "            if nc==1 and nr==1:\n",
    "                index_col.append(com_c)\n",
    "                index_row.append(com_r)\n",
    "                comune=True\n",
    "            nr=0\n",
    "            nc=0\n",
    "    if comune:\n",
    "        return evaluation_format(\"No\", 0,pt_red,index_pt)+f\"La risposta non è corretta. Il gruppo di sottomatrici ha in comune le celle individuate dai seguenti indici di colonna: {index_col} e di riga: {index_row}.\"\n",
    "    else:\n",
    "        return evaluation_format(\"Si\", pt_green,pt_red,index_pt)+f\" Il gruppo di sottomatrici è corretto.\"\n",
    "\n"
   ]
  },
  {
   "cell_type": "markdown",
   "metadata": {
    "deletable": false,
    "editable": false,
    "hide_input": true,
    "tags": [
     "runcell",
     "noexport"
    ]
   },
   "source": [
    "## Esercizio \\[60 pts\\]<br/> Pirellone."
   ]
  },
  {
   "cell_type": "markdown",
   "metadata": {
    "deletable": false,
    "editable": false,
    "hide_input": true,
    "tags": [
     "runcell"
    ]
   },
   "source": [
    "Cerca di minimizzare i numero di luci lasciate accese quando, partendo dalla seguente matrice di $m\times n$ valori booleani (acceso/spento), puoi utilizzare delle $m+n$ mosse che invertono tutta una riga oppure tutta una colonna quelle che reputi più opportuno.\n"
   ]
  },
  {
   "cell_type": "code",
   "execution_count": 6,
   "metadata": {
    "deletable": false,
    "editable": false,
    "hide_input": true,
    "tags": [
     "runcell"
    ]
   },
   "outputs": [
    {
     "name": "stdout",
     "output_type": "stream",
     "text": [
      "0 0 1 0 1 1 0 1 \n",
      "0 0 1 0 0 1 1 0 \n",
      "1 1 0 1 1 0 0 0 \n",
      "1 1 0 1 0 1 1 0 \n",
      "0 0 1 0 0 1 0 1 \n",
      "1 0 1 0 1 1 0 1 \n"
     ]
    },
    {
     "data": {
      "text/markdown": [
       "Attualmente ci sono <b>24 luci accese</b>."
      ],
      "text/plain": [
       "<IPython.core.display.Markdown object>"
      ]
     },
     "metadata": {},
     "output_type": "display_data"
    }
   ],
   "source": [
    "visualizza(p)\n"
   ]
  },
  {
   "cell_type": "markdown",
   "metadata": {
    "deletable": false,
    "editable": false,
    "hide_input": true,
    "tags": [
     "runcell"
    ]
   },
   "source": [
    "Portati in una configurazione col minor numero possibile di luci accese. Puoi effettuare delle prove nel seguente modo:\n",
    "una mossa alla volta utilizzando le funzioni $flippa\\_riga(indice\\_riga)$ e $flippa\\_colonna(indice\\_colonna)$ per spostarti un po' alla volta fino ad una configurazione che reputi ottima\n",
    "oppure utilizza la funzione $visualizza\\_lo\\_stato\\_che\\_si\\_ottiene\\_con\\_gli\\_interruttori\\_impostati(agisci\\_riga, agisci\\_col)$ in cui $agisci\\_col$ e $agisci\\_riga$ sono vettori a valori booleani delle stesse dimensioni della matrice di partenza tali che 0 (=non agire) con e 1 (=agire)."
   ]
  },
  {
   "cell_type": "code",
   "execution_count": 8,
   "metadata": {
    "deletable": false
   },
   "outputs": [
    {
     "data": {
      "text/markdown": [
       "Agendo sugli interruttori settati come segue:<br><b>   Interruttori di riga:</b> [1, 0, 0, 1, 0, 0]<br><b>   Interruttori di colonna:</b> [0, 0, 0, 0, 0, 0, 0, 0]"
      ],
      "text/plain": [
       "<IPython.core.display.Markdown object>"
      ]
     },
     "metadata": {},
     "output_type": "display_data"
    },
    {
     "data": {
      "text/markdown": [
       "Ti porti dalla configurazione iniziale riportata in $p$ nella seguente configurazione finale:<br>"
      ],
      "text/plain": [
       "<IPython.core.display.Markdown object>"
      ]
     },
     "metadata": {},
     "output_type": "display_data"
    },
    {
     "name": "stdout",
     "output_type": "stream",
     "text": [
      "1 1 0 1 0 0 1 0 \n",
      "0 0 1 0 0 1 1 0 \n",
      "1 1 0 1 1 0 0 0 \n",
      "0 0 1 0 1 0 0 1 \n",
      "0 0 1 0 0 1 0 1 \n",
      "1 0 1 0 1 1 0 1 \n"
     ]
    },
    {
     "data": {
      "text/markdown": [
       "Attualmente ci sono <b>22 luci accese</b>."
      ],
      "text/plain": [
       "<IPython.core.display.Markdown object>"
      ]
     },
     "metadata": {},
     "output_type": "display_data"
    }
   ],
   "source": [
    "#Utilizza questa cella per le tue prove.\n",
    "flippa_riga(3)\n",
    "visualizza_stato_attuale()"
   ]
  },
  {
   "cell_type": "markdown",
   "metadata": {
    "deletable": false,
    "editable": false,
    "hide_input": true,
    "tags": [
     "runcell"
    ]
   },
   "source": [
    "__Richieste__:"
   ]
  },
  {
   "cell_type": "markdown",
   "metadata": {
    "deletable": false,
    "editable": false,
    "hide_input": true,
    "tags": [
     "runcell",
     "noexport"
    ]
   },
   "source": [
    "1. __[30 pts]__ Dopo aver sperimentato nella cella sopra, indica il numero minimo di luci che non possono essere spente.\n",
    "        "
   ]
  },
  {
   "cell_type": "code",
   "execution_count": 9,
   "metadata": {
    "deletable": false
   },
   "outputs": [],
   "source": [
    "#Inserisci la risposta\n",
    "answer0=8"
   ]
  },
  {
   "cell_type": "code",
   "execution_count": 10,
   "metadata": {
    "deletable": false,
    "editable": false,
    "hide_input": true
   },
   "outputs": [
    {
     "data": {
      "text/markdown": [
       "Si. Totalizzeresti <span style='color:green'>[1 safe pt]</span>,                                     <span style='color:blue'>[29 possible pt]</span>,                                     <span style='color:red'>[0 out of reach pt]</span>.<br>Il numero di luci che non possono essere spente è corretto."
      ],
      "text/plain": [
       "<IPython.core.display.Markdown object>"
      ]
     },
     "metadata": {},
     "output_type": "display_data"
    }
   ],
   "source": [
    "display(Markdown(check_numberlight(p,answer0,pt_green=1, pt_red=30, index_pt=0)))"
   ]
  },
  {
   "cell_type": "markdown",
   "metadata": {
    "deletable": false,
    "editable": false,
    "hide_input": true,
    "tags": [
     "runcell",
     "noexport"
    ]
   },
   "source": [
    "2. __[30 pts]__ Fornisci il certificato che giustifica la prencedente risposta, cioè il gruppo di sottomatrici $2$x$2$ 'cattive'. Inserici la risposta in questo modo:\n",
    "\n",
    "        answer=[\n",
    "            [1,2,5,4],\n",
    "            [0,3,1,2]\n",
    "        ]\n",
    "\n",
    "una lista di array, dove nell'array sono presenti gli indici nella matrice di partenza che individuano la sottomatrice, i primi due numeri si riferiscono alle righe e i restanti alle colonne.\n",
    "Quindi il primo array indiviua la sottomatrice ottenuta intersecando le righe $1$,$2$ con le colonne $4$,$5$.\n",
    "        "
   ]
  },
  {
   "cell_type": "code",
   "execution_count": 11,
   "metadata": {
    "deletable": false
   },
   "outputs": [],
   "source": [
    "#Inserisci la risposta\n",
    "answer1=[]"
   ]
  },
  {
   "cell_type": "code",
   "execution_count": null,
   "metadata": {
    "deletable": false,
    "editable": false,
    "hide_input": true
   },
   "outputs": [],
   "source": [
    "display(Markdown(check_submatrix(p,answer1,pt_green=1, pt_red=30,index_pt=1)))"
   ]
  }
 ],
 "metadata": {
  "hide_input": false,
  "kernelspec": {
   "display_name": "Python 3",
   "language": "python",
   "name": "python3"
  },
  "language_info": {
   "codemirror_mode": {
    "name": "ipython",
    "version": 3
   },
   "file_extension": ".py",
   "mimetype": "text/x-python",
   "name": "python",
   "nbconvert_exporter": "python",
   "pygments_lexer": "ipython3",
   "version": "3.7.6"
  }
 },
 "nbformat": 4,
 "nbformat_minor": 4
}
