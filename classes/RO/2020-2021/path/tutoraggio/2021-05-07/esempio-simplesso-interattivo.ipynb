{
 "cells": [
  {
   "cell_type": "markdown",
   "metadata": {},
   "source": [
    "### PROGRAMMAZIONE LINEARE CON LIBRERIA INTERATTIVA"
   ]
  },
  {
   "cell_type": "code",
   "execution_count": 1,
   "metadata": {},
   "outputs": [],
   "source": [
    "import simplesso_interattivo as s"
   ]
  },
  {
   "cell_type": "code",
   "execution_count": 2,
   "metadata": {},
   "outputs": [
    {
     "name": "stdout",
     "output_type": "stream",
     "text": [
      "xB\tx1\tx2\tx3\tx4\tx5\tb\n",
      "x3\t2\t1\t1\t0\t0\t4\n",
      "x4\t-2\t1\t0\t1\t0\t2\n",
      "x5\t1\t-1\t0\t0\t1\t1\n",
      "c.c.r.\t3\t2\t0\t0\t0\t0\n",
      "Soluzione di base = (0, 0, 4, 2, 1)\n",
      "Funzione obiettivo = 0\n"
     ]
    }
   ],
   "source": [
    "# Problema in forma standard di massimizzazione:\n",
    "# max cx\n",
    "# Ax <= b\n",
    "# x  >= 0\n",
    "\n",
    "# Example 1\n",
    "# max z = 3x1 + 2x2 \n",
    "# t.c.\n",
    "# 2x1 + x2  <= 4\n",
    "# -2x1 + x2 <= 2\n",
    "# x1-x2     <= 1\n",
    "# x1, x2 >= 0\n",
    "c = [3,2]\n",
    "b = [4,2,1]\n",
    "A = [[2,1], [-2,1], [1,-1]]\n",
    "n = 2 #numero xi\n",
    "m = 3 #numero vincoli\n",
    "\n",
    "t = s.Tableau(n, m, c,'max') # funzione obiettivo e tipologia di problema (sono consentiti 'max' e 'min')\n",
    "# Vincoli\n",
    "for i in range(len(A)):\n",
    "    t.aggiungi_vincolo(A[i],b[i])\n",
    "    \n",
    "t.crea_primo_tableau()\n",
    "t.mostra_tableau()"
   ]
  },
  {
   "cell_type": "code",
   "execution_count": null,
   "metadata": {},
   "outputs": [],
   "source": [
    "# Metodo 2 (interattivo) - Lo studente è libero di usare le funzioni seguenti:\n",
    "# t.crea_primo_tableau()\n",
    "# t.mostra_tableau()\n",
    "# t.stampa_soluzione_base_corrente()\n",
    "# t.is_optimal()\n",
    "# t.is_feasible()\n",
    "# t.step_primale()\n",
    "# t.step_duale()\n",
    "# t.pivot_colonna_riga()\n",
    "# t.prossimo_step()"
   ]
  },
  {
   "cell_type": "code",
   "execution_count": 3,
   "metadata": {},
   "outputs": [
    {
     "name": "stdout",
     "output_type": "stream",
     "text": [
      "\n",
      "Iterazione 1\n",
      "Elemento pivot a[3][1] = 1\n",
      "Variabile entrante: x1\n",
      "Variabile uscente: x5\n",
      "xB\tx1\tx2\tx3\tx4\tx5\tb\n",
      "x3\t0\t3\t1\t0\t-2\t2\n",
      "x4\t0\t-1\t0\t1\t2\t4\n",
      "x1\t1\t-1\t0\t0\t1\t1\n",
      "c.c.r.\t0\t5\t0\t0\t-3\t-3\n",
      "Soluzione di base = (1, 0, 2, 4, 0)\n",
      "Funzione obiettivo = 3\n",
      "\n",
      "Iterazione 2\n",
      "Elemento pivot a[1][2] = 3\n",
      "Variabile entrante: x2\n",
      "Variabile uscente: x3\n",
      "xB\tx1\tx2\tx3\tx4\tx5\tb\n",
      "x2\t0\t1\t1/3\t0\t-2/3\t2/3\n",
      "x4\t0\t0\t1/3\t1\t4/3\t14/3\n",
      "x1\t1\t0\t1/3\t0\t1/3\t5/3\n",
      "c.c.r.\t0\t0\t-5/3\t0\t1/3\t-19/3\n",
      "Soluzione di base = (5/3, 2/3, 0, 14/3, 0)\n",
      "Funzione obiettivo = 19/3\n",
      "\n",
      "Iterazione 3\n",
      "Elemento pivot a[2][5] = 4/3\n",
      "Variabile entrante: x5\n",
      "Variabile uscente: x4\n",
      "xB\tx1\tx2\tx3\tx4\tx5\tb\n",
      "x2\t0\t1\t1/2\t1/2\t0\t3\n",
      "x5\t0\t0\t1/4\t3/4\t1\t7/2\n",
      "x1\t1\t0\t1/4\t-1/4\t0\t1/2\n",
      "c.c.r.\t0\t0\t-7/4\t-1/4\t0\t-15/2\n",
      "Soluzione di base = (1/2, 3, 0, 0, 7/2)\n",
      "Funzione obiettivo = 15/2\n"
     ]
    }
   ],
   "source": [
    "# questo algoritmo trova una soluzione di base ottima se prende avvio da una soluzione di base ammissibile\n",
    "nb_iter = 1\n",
    "while not t.is_optimal():\n",
    "    print('\\nIterazione ' + str(nb_iter))\n",
    "    t.step_primale()\n",
    "    t.mostra_tableau()\n",
    "    nb_iter += 1"
   ]
  },
  {
   "cell_type": "code",
   "execution_count": 4,
   "metadata": {},
   "outputs": [
    {
     "name": "stdout",
     "output_type": "stream",
     "text": [
      "xB\tx1\tx2\tx3\tx4\tx5\tx6\tb\n",
      "x4\t2\t1\t1\t1\t0\t0\t4\n",
      "x5\t1\t2\t1\t0\t1\t0\t7\n",
      "x6\t0\t0\t1\t0\t0\t1\t5\n",
      "c.c.r.\t2\t3\t2\t0\t0\t0\t0\n",
      "Soluzione di base = (0, 0, 0, 4, 7, 5)\n",
      "Funzione obiettivo = 0\n"
     ]
    }
   ],
   "source": [
    "# Example 2\n",
    "# max z = 2x1 + 3x2 + 2x3\n",
    "# t.c.\n",
    "# 2x1 + x2 + x3 <= 4\n",
    "# x1 + 2x2 + x3 <= 7\n",
    "# x3          <= 5\n",
    "# x1, x2, x3 >= 0\n",
    "c = [2,3,2]\n",
    "b = [4,7,5]\n",
    "A = [[2,1,1], [1,2,1], [0,0,1]]\n",
    "n = 3\n",
    "m = 3\n",
    "\n",
    "t = s.Tableau(n, m, c,'max') # funzione obiettivo e tipologia di problema (sono consentiti 'max' e 'min')\n",
    "# Vincoli\n",
    "for i in range(len(A)):\n",
    "    t.aggiungi_vincolo(A[i],b[i])\n",
    "t.crea_primo_tableau()\n",
    "t.mostra_tableau()"
   ]
  },
  {
   "cell_type": "code",
   "execution_count": 5,
   "metadata": {},
   "outputs": [
    {
     "name": "stdout",
     "output_type": "stream",
     "text": [
      "\n",
      "Iterazione 1\n",
      "Elemento pivot a[2][2] = 2\n",
      "Variabile entrante: x2\n",
      "Variabile uscente: x5\n",
      "xB\tx1\tx2\tx3\tx4\tx5\tx6\tb\n",
      "x4\t3/2\t0\t1/2\t1\t-1/2\t0\t1/2\n",
      "x2\t1/2\t1\t1/2\t0\t1/2\t0\t7/2\n",
      "x6\t0\t0\t1\t0\t0\t1\t5\n",
      "c.c.r.\t1/2\t0\t1/2\t0\t-3/2\t0\t-21/2\n",
      "Soluzione di base = (0, 7/2, 0, 1/2, 0, 5)\n",
      "Funzione obiettivo = 21/2\n",
      "\n",
      "Iterazione 2\n",
      "Elemento pivot a[1][1] = 3/2\n",
      "Variabile entrante: x1\n",
      "Variabile uscente: x4\n",
      "xB\tx1\tx2\tx3\tx4\tx5\tx6\tb\n",
      "x1\t1\t0\t1/3\t2/3\t-1/3\t0\t1/3\n",
      "x2\t0\t1\t1/3\t-1/3\t2/3\t0\t10/3\n",
      "x6\t0\t0\t1\t0\t0\t1\t5\n",
      "c.c.r.\t0\t0\t1/3\t-1/3\t-4/3\t0\t-32/3\n",
      "Soluzione di base = (1/3, 10/3, 0, 0, 0, 5)\n",
      "Funzione obiettivo = 32/3\n",
      "\n",
      "Iterazione 3\n",
      "Elemento pivot a[1][3] = 1/3\n",
      "Variabile entrante: x3\n",
      "Variabile uscente: x1\n",
      "xB\tx1\tx2\tx3\tx4\tx5\tx6\tb\n",
      "x3\t3\t0\t1\t2\t-1\t0\t1\n",
      "x2\t-1\t1\t0\t-1\t1\t0\t3\n",
      "x6\t-3\t0\t0\t-2\t1\t1\t4\n",
      "c.c.r.\t-1\t0\t0\t-1\t-1\t0\t-11\n",
      "Soluzione di base = (0, 3, 1, 0, 0, 4)\n",
      "Funzione obiettivo = 11\n"
     ]
    }
   ],
   "source": [
    "nb_iter = 1\n",
    "while not t.is_optimal():\n",
    "    print('\\nIterazione ' + str(nb_iter))\n",
    "    t.step_primale()\n",
    "    t.mostra_tableau()\n",
    "    nb_iter += 1"
   ]
  },
  {
   "cell_type": "code",
   "execution_count": null,
   "metadata": {},
   "outputs": [],
   "source": []
  }
 ],
 "metadata": {
  "kernelspec": {
   "display_name": "Python 3",
   "language": "python",
   "name": "python3"
  },
  "language_info": {
   "codemirror_mode": {
    "name": "ipython",
    "version": 3
   },
   "file_extension": ".py",
   "mimetype": "text/x-python",
   "name": "python",
   "nbconvert_exporter": "python",
   "pygments_lexer": "ipython3",
   "version": "3.7.6"
  }
 },
 "nbformat": 4,
 "nbformat_minor": 4
}
