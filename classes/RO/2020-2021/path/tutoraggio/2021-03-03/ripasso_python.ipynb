{
 "cells": [
  {
   "cell_type": "markdown",
   "metadata": {},
   "source": [
    "### RIPASSO BASI PYTHON"
   ]
  },
  {
   "cell_type": "code",
   "execution_count": null,
   "metadata": {},
   "outputs": [],
   "source": [
    "#STAMPARE RIGA\n",
    "print(\"Hello world!\")"
   ]
  },
  {
   "cell_type": "code",
   "execution_count": null,
   "metadata": {},
   "outputs": [],
   "source": [
    "#VARIABILE STRINGA\n",
    "name=\"John\"                         #Le stringhe si scrivono tra virgolette\n",
    "age=\"35\"\n",
    "print(\"There once was a man called \" + name + \",\")\n",
    "print(\"he was \"+age+\" years old.\")\n",
    "print(\"He really like is name: \" + name + \",\")\n",
    "print(\"but he did't like being \"+age+\".\")"
   ]
  },
  {
   "cell_type": "code",
   "execution_count": null,
   "metadata": {},
   "outputs": [],
   "source": [
    "#OPZIONI DI STAMPA\n",
    "print(\"hello \\nworld\")              #andare a capo\n",
    "print(\"hello \\\" world\")             #stampare virgolette"
   ]
  },
  {
   "cell_type": "code",
   "execution_count": null,
   "metadata": {},
   "outputs": [],
   "source": [
    "#ESEMPI DI FUNZIONE\n",
    "phrase=\"Hello\"\n",
    "print(phrase.lower())               #stampa tutto in minuscolo\n",
    "print(phrase.upper())               #stampa tutto in maiscuolo\n",
    "print(phrase.isupper())             #mi dice se è tutto maiuscolo\n",
    "print(phrase.upper().isupper())     #concatenazione funzioni\n",
    "print(len((phrase)))                #numero lettere stringa\n",
    "print(phrase[0])                    #stampa prima lettera (INDICI IN PYTHON PARTONO DA 0)*\n",
    "print(phrase.index(\"o\"))            #restuisce indice lettera o    "
   ]
  },
  {
   "cell_type": "code",
   "execution_count": null,
   "metadata": {},
   "outputs": [],
   "source": [
    "#NUMERI\n",
    "print(3)\n",
    "print(-4.5566)\n",
    "print(3+54.67)\n",
    "print(10%3)                         #10 modulo 3\n",
    "num=5\n",
    "print(num)\n",
    "print(type(num))\n",
    "print(str(num))                     #converte numero in stringa\n",
    "print(type(str(num)))\n",
    "neg_num=-5\n",
    "print(abs(neg_num))\n",
    "print(pow(4,2))\n",
    "print(max(3,3,3,4))\n",
    "print(min(5,6))\n",
    "print(round(3.3))"
   ]
  },
  {
   "cell_type": "code",
   "execution_count": null,
   "metadata": {},
   "outputs": [],
   "source": [
    "from math import * #IMPORTO FUNZIONI MATEMATICHE da libreria math\n",
    "print(floor(3.6))\n",
    "print(ceil(3.2))\n",
    "print(sqrt(46))"
   ]
  },
  {
   "cell_type": "code",
   "execution_count": null,
   "metadata": {},
   "outputs": [],
   "source": [
    "#INPUT\n",
    "name=input(\"Enter your name: \")\n",
    "age=input(\"Enter your age: \")\n",
    "print(\"Hello \"+name+\"!\"+\" You are \"+age+\".\")"
   ]
  },
  {
   "cell_type": "code",
   "execution_count": null,
   "metadata": {},
   "outputs": [],
   "source": [
    "#LISTE collezioni di variabili: stringhe, numeri ...\n",
    "friends=[\"Giulia\",\"Giada\",\"Matilde\"] \n",
    "print(friends)\n",
    "print(friends[0])                   #stampiamo gli elementi della lista\n",
    "print(friends[1])\n",
    "print(friends[2])\n",
    "print(friends[-1])                  #ultimo elemento\n",
    "print(friends[1:])                  #da posizione 1 in poi\n",
    "#FUNZIONI LISTE\n",
    "numbers=[1,2,3]\n",
    "friends.extend(numbers)             #aggiunge alla lista friends numbers\n",
    "print(friends)\n",
    "numbers.append(5)                   #aggiunge un elemento\n",
    "print(numbers)\n",
    "numbers.insert(2,7)                 #posizione 2 aggiungiamo valore 7\n",
    "print(numbers)\n",
    "numbers.remove(5)                   #toglie il 5\n",
    "print(numbers)\n",
    "numbers.clear()                     #pulisce la lista\n",
    "print(numbers)\n",
    "friends.pop()                       #toglie ultimo elemento\n",
    "print(friends)\n",
    "#altre funzioni\n",
    "#.count per contare elementi uguali\n",
    "#.index mi dice indice\n",
    "#.sort mi riordina\n",
    "#.copy copia lista\n",
    "\n",
    "#TUPLE\n",
    "#non puoi cambiare assegnamenti, simili alle liste ma si possono sono leggere\n",
    "t1 = (1,2,3)\n",
    "print(t1)\n",
    "print (\"t1 =\" + str(t1))\n",
    "#si può fare una lista di tuples"
   ]
  },
  {
   "cell_type": "code",
   "execution_count": 3,
   "metadata": {
    "scrolled": true
   },
   "outputs": [
    {
     "name": "stdout",
     "output_type": "stream",
     "text": [
      "Hello world\n"
     ]
    },
    {
     "data": {
      "text/plain": [
       "27"
      ]
     },
     "execution_count": 3,
     "metadata": {},
     "output_type": "execute_result"
    }
   ],
   "source": [
    "#FUNZIONI\n",
    "def say_hi():                      #funzione senza input\n",
    "    print(\"Hello world\")\n",
    "\n",
    "say_hi()\n",
    "\n",
    "def cube(num):                     #funzione con input  \n",
    "    return num*num*num\n",
    "\n",
    "cube(3) "
   ]
  },
  {
   "cell_type": "code",
   "execution_count": 4,
   "metadata": {},
   "outputs": [
    {
     "name": "stdout",
     "output_type": "stream",
     "text": [
      "you are a man or tall or both\n",
      "you are a short man\n"
     ]
    }
   ],
   "source": [
    "#IF\n",
    "male=True\n",
    "tall=False\n",
    "if male or tall:\n",
    "    print(\"you are a man or tall or both\")\n",
    "else:\n",
    "    print(\"you are not a man nor tall\")\n",
    "\n",
    "if male and tall:\n",
    "    print(\"you are a man and tall \")\n",
    "elif male and not(tall):\n",
    "    print(\"you are a short man\")\n",
    "else:\n",
    "    print(\"you are not a man not tall not both\")"
   ]
  },
  {
   "cell_type": "code",
   "execution_count": 5,
   "metadata": {},
   "outputs": [
    {
     "name": "stdout",
     "output_type": "stream",
     "text": [
      "2\n",
      "3\n",
      "56\n",
      "7\n",
      "7\n",
      "0\n",
      "1\n",
      "2\n",
      "3\n",
      "4\n",
      "5\n",
      "6\n",
      "7\n",
      "8\n",
      "9\n",
      "10\n",
      "11\n",
      "12\n",
      "13\n",
      "14\n",
      "15\n",
      "16\n",
      "17\n",
      "18\n",
      "19\n",
      "20\n",
      "21\n",
      "22\n",
      "23\n",
      "24\n",
      "25\n",
      "26\n",
      "27\n",
      "28\n",
      "29\n",
      "\n",
      "20\n",
      "21\n",
      "22\n",
      "23\n",
      "24\n",
      "25\n",
      "26\n",
      "27\n",
      "28\n",
      "29\n",
      "0\n",
      "1\n",
      "2\n",
      "3\n",
      "4\n",
      "5\n",
      "6\n",
      "7\n",
      "8\n",
      "9\n",
      "10\n",
      "11\n",
      "12\n",
      "13\n",
      "14\n",
      "15\n",
      "16\n",
      "17\n",
      "18\n",
      "19\n",
      "20\n",
      "21\n",
      "22\n",
      "23\n",
      "24\n",
      "25\n",
      "26\n",
      "27\n",
      "28\n",
      "29\n",
      "30\n"
     ]
    }
   ],
   "source": [
    "#CICLO FOR\n",
    "vettore=[2,3,56,7,7]\n",
    "for i in vettore:\n",
    "    print(i)\n",
    "\n",
    "for i in range(30): \n",
    "    print(i)\n",
    "print()\n",
    "for i in range(20,30):\n",
    "    print(i)\n",
    "\n",
    "#CICLO WHILE\n",
    "i=0\n",
    "while i<=30:\n",
    "    print(i)\n",
    "    i=i+1"
   ]
  },
  {
   "cell_type": "code",
   "execution_count": 8,
   "metadata": {},
   "outputs": [
    {
     "name": "stdout",
     "output_type": "stream",
     "text": [
      "type(a) = <class 'list'>\n",
      "[[0, 0], [0, 0], [0, 0], [0, 0]]\n"
     ]
    }
   ],
   "source": [
    "#MATRICI\n",
    "# a è una matrice 2-D \n",
    "a = [['Roy',80,75,85,90,95],\n",
    "     ['John',75,80,75,85,100],\n",
    "     ['Dave',80,80,80,90,95]]\n",
    "print (\"type(a) = \" + str(type(a)))\n",
    "\n",
    "#matrice inizializzata\n",
    "num_colonne=2\n",
    "num_righe=4\n",
    "m = [[0 for y in range(num_colonne)] for x in range(num_righe)]\n",
    "print (str(m))"
   ]
  },
  {
   "cell_type": "code",
   "execution_count": null,
   "metadata": {},
   "outputs": [],
   "source": []
  },
  {
   "cell_type": "code",
   "execution_count": null,
   "metadata": {},
   "outputs": [],
   "source": []
  }
 ],
 "metadata": {
  "kernelspec": {
   "display_name": "Python 3",
   "language": "python",
   "name": "python3"
  },
  "language_info": {
   "codemirror_mode": {
    "name": "ipython",
    "version": 3
   },
   "file_extension": ".py",
   "mimetype": "text/x-python",
   "name": "python",
   "nbconvert_exporter": "python",
   "pygments_lexer": "ipython3",
   "version": "3.7.6"
  }
 },
 "nbformat": 4,
 "nbformat_minor": 4
}
